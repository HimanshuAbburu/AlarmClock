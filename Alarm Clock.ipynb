{
 "cells": [
  {
   "cell_type": "code",
   "execution_count": 2,
   "metadata": {},
   "outputs": [
    {
     "name": "stdout",
     "output_type": "stream",
     "text": [
      "Enter the time for the alarm to be set:HH:MM:SS AM/PM\n",
      "10:08:00 AM\n",
      "Alarm Set!!\n",
      "Wake Up!!!\n"
     ]
    }
   ],
   "source": [
    "from datetime import datetime\n",
    "from playsound import playsound\n",
    "\n",
    "alarm_Time = input(\"Enter the time for the alarm to be set:HH:MM:SS AM/PM\\n\")\n",
    "hour = alarm_Time[0:2]\n",
    "minute = alarm_Time[3:5]\n",
    "seconds = alarm_Time[6:8]\n",
    "am_pm = alarm_Time[9:11]\n",
    "\n",
    "print(\"Alarm Set!!\")\n",
    "\n",
    "while True:\n",
    "    timeNow = datetime.now()\n",
    "    currentHour = timeNow.strftime(\"%I\")\n",
    "    currentMinute = timeNow.strftime(\"%M\")\n",
    "    currentSecond = timeNow.strftime(\"%S\")\n",
    "    current_AmPm = timeNow.strftime(\"%p\")\n",
    "    if (am_pm == current_AmPm and hour==currentHour and minute==currentMinute and seconds==currentSecond):\n",
    "        print(\"Wake Up!!!\")\n",
    "        playsound('C:/Users/abbhimu/music/Wake-Up.mp3')\n",
    "        break"
   ]
  },
  {
   "cell_type": "code",
   "execution_count": null,
   "metadata": {},
   "outputs": [],
   "source": []
  }
 ],
 "metadata": {
  "kernelspec": {
   "display_name": "Python 3",
   "language": "python",
   "name": "python3"
  },
  "language_info": {
   "codemirror_mode": {
    "name": "ipython",
    "version": 3
   },
   "file_extension": ".py",
   "mimetype": "text/x-python",
   "name": "python",
   "nbconvert_exporter": "python",
   "pygments_lexer": "ipython3",
   "version": "3.7.3"
  }
 },
 "nbformat": 4,
 "nbformat_minor": 2
}
